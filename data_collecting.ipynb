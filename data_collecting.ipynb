{
  "cells": [
    {
      "cell_type": "code",
      "execution_count": 1,
      "id": "ae4c5bca",
      "metadata": {
        "id": "ae4c5bca"
      },
      "outputs": [],
      "source": [
        "import matplotlib.pyplot as plt\n",
        "import numpy as np\n",
        "import pandas as pd\n",
        "import re\n",
        "pd.options.mode.chained_assignment = None"
      ]
    },
    {
      "cell_type": "markdown",
      "source": [
        "Собираем данные о демографии некоторых стран с Википедии"
      ],
      "metadata": {
        "id": "eXxbCz8TKuts"
      },
      "id": "eXxbCz8TKuts"
    },
    {
      "cell_type": "code",
      "execution_count": 2,
      "id": "3c99abcf",
      "metadata": {
        "id": "3c99abcf"
      },
      "outputs": [],
      "source": [
        "urls = ['https://en.wikipedia.org/wiki/Demographics_of_Australia',\n",
        "       'https://en.wikipedia.org/wiki/Demographics_of_Malaysia',\n",
        "       'https://en.wikipedia.org/wiki/Demographics_of_Sweden',\n",
        "       'https://en.wikipedia.org/wiki/Demographics_of_Switzerland',\n",
        "       'https://en.wikipedia.org/wiki/Demographics_of_Belgium']\n",
        "countries = ['Australia', 'Malaysia', 'Sweden', 'Switzerland', 'Belgium']"
      ]
    },
    {
      "cell_type": "code",
      "execution_count": null,
      "id": "cc3d476a",
      "metadata": {
        "id": "cc3d476a"
      },
      "outputs": [],
      "source": [
        "result_df = pd.DataFrame()"
      ]
    },
    {
      "cell_type": "code",
      "execution_count": null,
      "id": "2ee06ff3",
      "metadata": {
        "id": "2ee06ff3"
      },
      "outputs": [],
      "source": [
        "for i, url in enumerate(urls):\n",
        "    dfs = pd.read_html(url)\n",
        "    current_df = None\n",
        "\n",
        "    for df in dfs:\n",
        "        if 'Average population' in df.columns: #выбираем нужную табличку\n",
        "            current_df = df\n",
        "            break\n",
        "\n",
        "    #Без имени может быть только колонка - год, и в целом все таблицы имеют одинаковые названия колонок\n",
        "    #так что можем применять универсальные модификации\n",
        "    current_df.rename(columns = {\"Unnamed: 0\" : 'Year'}, inplace = True)\n",
        "    #в результат пойдут эти 5 колонок\n",
        "    current_df = current_df[[\"Year\", \"Average population\", \"Live births\", \"Deaths\", \"Natural change\"]]\n",
        "\n",
        "    for column in current_df.columns:\n",
        "        if current_df.dtypes[column] not in ['int64', 'float64', 'float']:\n",
        "            #если в ячейке была ссылка вида [xx] - отрезаем эту ссылку\n",
        "            current_df[column] = current_df[column].map(lambda x: x[:4] if x.find('[') != -1 else x)\n",
        "            #убираем лишние символы, оставляем только цифры и возможные модификации минуса.\n",
        "            #у нас нет дробных чисел, так что точки и запятые тоже можно убрать\n",
        "            current_df[column] = current_df[column].map(lambda x: re.sub(\"[^0-9 - — –]\", \"\", x))\n",
        "            current_df[column] = current_df[column].astype(\"int32\")\n",
        "\n",
        "    current_df['Country'] = countries[i]\n",
        "\n",
        "    result_df = pd.concat([result_df, current_df], ignore_index=True)\n"
      ]
    },
    {
      "cell_type": "code",
      "execution_count": null,
      "id": "5f83f858",
      "metadata": {
        "id": "5f83f858",
        "outputId": "fce5b3d1-eab5-479d-9ff5-89cd3d63311c"
      },
      "outputs": [
        {
          "data": {
            "text/html": [
              "<div>\n",
              "<style scoped>\n",
              "    .dataframe tbody tr th:only-of-type {\n",
              "        vertical-align: middle;\n",
              "    }\n",
              "\n",
              "    .dataframe tbody tr th {\n",
              "        vertical-align: top;\n",
              "    }\n",
              "\n",
              "    .dataframe thead th {\n",
              "        text-align: right;\n",
              "    }\n",
              "</style>\n",
              "<table border=\"1\" class=\"dataframe\">\n",
              "  <thead>\n",
              "    <tr style=\"text-align: right;\">\n",
              "      <th></th>\n",
              "      <th>Year</th>\n",
              "      <th>Average population</th>\n",
              "      <th>Live births</th>\n",
              "      <th>Deaths</th>\n",
              "      <th>Natural change</th>\n",
              "      <th>Country</th>\n",
              "    </tr>\n",
              "  </thead>\n",
              "  <tbody>\n",
              "    <tr>\n",
              "      <th>0</th>\n",
              "      <td>1900</td>\n",
              "      <td>3715000</td>\n",
              "      <td>102221.0</td>\n",
              "      <td>44060.0</td>\n",
              "      <td>27.3</td>\n",
              "      <td>Australia</td>\n",
              "    </tr>\n",
              "    <tr>\n",
              "      <th>1</th>\n",
              "      <td>1901</td>\n",
              "      <td>3765000</td>\n",
              "      <td>102945.0</td>\n",
              "      <td>46330.0</td>\n",
              "      <td>56615.0</td>\n",
              "      <td>Australia</td>\n",
              "    </tr>\n",
              "    <tr>\n",
              "      <th>2</th>\n",
              "      <td>1902</td>\n",
              "      <td>3824000</td>\n",
              "      <td>102776.0</td>\n",
              "      <td>48078.0</td>\n",
              "      <td>54698.0</td>\n",
              "      <td>Australia</td>\n",
              "    </tr>\n",
              "    <tr>\n",
              "      <th>3</th>\n",
              "      <td>1903</td>\n",
              "      <td>3875000</td>\n",
              "      <td>98443.0</td>\n",
              "      <td>47293.0</td>\n",
              "      <td>51150.0</td>\n",
              "      <td>Australia</td>\n",
              "    </tr>\n",
              "    <tr>\n",
              "      <th>4</th>\n",
              "      <td>1904</td>\n",
              "      <td>3916000</td>\n",
              "      <td>104113.0</td>\n",
              "      <td>43572.0</td>\n",
              "      <td>60541.0</td>\n",
              "      <td>Australia</td>\n",
              "    </tr>\n",
              "    <tr>\n",
              "      <th>...</th>\n",
              "      <td>...</td>\n",
              "      <td>...</td>\n",
              "      <td>...</td>\n",
              "      <td>...</td>\n",
              "      <td>...</td>\n",
              "      <td>...</td>\n",
              "    </tr>\n",
              "    <tr>\n",
              "      <th>559</th>\n",
              "      <td>2018</td>\n",
              "      <td>11376070</td>\n",
              "      <td>117800.0</td>\n",
              "      <td>110645.0</td>\n",
              "      <td>7155.0</td>\n",
              "      <td>Belgium</td>\n",
              "    </tr>\n",
              "    <tr>\n",
              "      <th>560</th>\n",
              "      <td>2019</td>\n",
              "      <td>11431406</td>\n",
              "      <td>117103.0</td>\n",
              "      <td>108745.0</td>\n",
              "      <td>8358.0</td>\n",
              "      <td>Belgium</td>\n",
              "    </tr>\n",
              "    <tr>\n",
              "      <th>561</th>\n",
              "      <td>2020</td>\n",
              "      <td>11492641</td>\n",
              "      <td>113739.0</td>\n",
              "      <td>126850.0</td>\n",
              "      <td>-13111.0</td>\n",
              "      <td>Belgium</td>\n",
              "    </tr>\n",
              "    <tr>\n",
              "      <th>562</th>\n",
              "      <td>2021</td>\n",
              "      <td>11521238</td>\n",
              "      <td>117914.0</td>\n",
              "      <td>112291.0</td>\n",
              "      <td>5623.0</td>\n",
              "      <td>Belgium</td>\n",
              "    </tr>\n",
              "    <tr>\n",
              "      <th>563</th>\n",
              "      <td>2022</td>\n",
              "      <td>11584008</td>\n",
              "      <td>NaN</td>\n",
              "      <td>NaN</td>\n",
              "      <td>NaN</td>\n",
              "      <td>Belgium</td>\n",
              "    </tr>\n",
              "  </tbody>\n",
              "</table>\n",
              "<p>564 rows × 6 columns</p>\n",
              "</div>"
            ],
            "text/plain": [
              "     Year  Average population  Live births    Deaths  Natural change  \\\n",
              "0    1900             3715000     102221.0   44060.0            27.3   \n",
              "1    1901             3765000     102945.0   46330.0         56615.0   \n",
              "2    1902             3824000     102776.0   48078.0         54698.0   \n",
              "3    1903             3875000      98443.0   47293.0         51150.0   \n",
              "4    1904             3916000     104113.0   43572.0         60541.0   \n",
              "..    ...                 ...          ...       ...             ...   \n",
              "559  2018            11376070     117800.0  110645.0          7155.0   \n",
              "560  2019            11431406     117103.0  108745.0          8358.0   \n",
              "561  2020            11492641     113739.0  126850.0        -13111.0   \n",
              "562  2021            11521238     117914.0  112291.0          5623.0   \n",
              "563  2022            11584008          NaN       NaN             NaN   \n",
              "\n",
              "       Country  \n",
              "0    Australia  \n",
              "1    Australia  \n",
              "2    Australia  \n",
              "3    Australia  \n",
              "4    Australia  \n",
              "..         ...  \n",
              "559    Belgium  \n",
              "560    Belgium  \n",
              "561    Belgium  \n",
              "562    Belgium  \n",
              "563    Belgium  \n",
              "\n",
              "[564 rows x 6 columns]"
            ]
          },
          "execution_count": 119,
          "metadata": {},
          "output_type": "execute_result"
        }
      ],
      "source": [
        "result_df"
      ]
    },
    {
      "cell_type": "code",
      "execution_count": null,
      "id": "ca41fbae",
      "metadata": {
        "id": "ca41fbae"
      },
      "outputs": [],
      "source": [
        "result_df.to_csv('X5_HW4_population.csv')\n",
        "result_df.to_parquet('X5_HW4_population.parquet')"
      ]
    },
    {
      "cell_type": "code",
      "source": [
        "Собранные данные лежат в этих файлах"
      ],
      "metadata": {
        "id": "NiPAsmFJK30v"
      },
      "id": "NiPAsmFJK30v",
      "execution_count": null,
      "outputs": []
    }
  ],
  "metadata": {
    "kernelspec": {
      "display_name": "Python 3 (ipykernel)",
      "language": "python",
      "name": "python3"
    },
    "language_info": {
      "codemirror_mode": {
        "name": "ipython",
        "version": 3
      },
      "file_extension": ".py",
      "mimetype": "text/x-python",
      "name": "python",
      "nbconvert_exporter": "python",
      "pygments_lexer": "ipython3",
      "version": "3.10.6"
    },
    "colab": {
      "provenance": []
    }
  },
  "nbformat": 4,
  "nbformat_minor": 5
}